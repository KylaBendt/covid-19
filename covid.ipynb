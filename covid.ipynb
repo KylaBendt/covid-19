{
 "cells": [
  {
   "cell_type": "code",
   "execution_count": 3,
   "metadata": {},
   "outputs": [],
   "source": [
    "import requests\n",
    "import pandas as pd\n",
    "import matplotlib.pyplot as plt\n",
    "import seaborn as sns\n",
    "import datetime\n",
    "import folium\n",
    "import geopandas\n",
    "import numpy as np\n",
    "import os\n",
    "sns.set()"
   ]
  },
  {
   "cell_type": "markdown",
   "metadata": {},
   "source": [
    "## Import data into Data Frame"
   ]
  },
  {
   "cell_type": "markdown",
   "metadata": {},
   "source": [
    "We're using covidtracking.com for the data.  \n",
    "Make a get request and convert the json response to a list."
   ]
  },
  {
   "cell_type": "code",
   "execution_count": 4,
   "metadata": {},
   "outputs": [],
   "source": [
    "stateData = requests.get('https://covidtracking.com/api/states/daily').json()"
   ]
  },
  {
   "cell_type": "markdown",
   "metadata": {},
   "source": [
    "### Take a look at the data"
   ]
  },
  {
   "cell_type": "markdown",
   "metadata": {},
   "source": [
    "stateData is a list of dictionaries containing daily information about state covid cases. "
   ]
  },
  {
   "cell_type": "code",
   "execution_count": 5,
   "metadata": {},
   "outputs": [
    {
     "name": "stdout",
     "output_type": "stream",
     "text": [
      "<class 'list'>\n",
      "{'date': 20200423, 'state': 'AK', 'positive': 337, 'negative': 11824, 'pending': None, 'hospitalizedCurrently': 42, 'hospitalizedCumulative': None, 'inIcuCurrently': None, 'inIcuCumulative': None, 'onVentilatorCurrently': None, 'onVentilatorCumulative': None, 'recovered': 209, 'hash': '59a03ea91067d205ddc33b0e77890986c467ae17', 'dateChecked': '2020-04-23T20:00:00Z', 'death': 9, 'hospitalized': None, 'total': 12161, 'totalTestResults': 12161, 'posNeg': 12161, 'fips': '02', 'deathIncrease': 0, 'hospitalizedIncrease': 0, 'negativeIncrease': 0, 'positiveIncrease': 2, 'totalTestResultsIncrease': 2}\n",
      "<class 'dict'>\n",
      "20200423\n"
     ]
    }
   ],
   "source": [
    "#Confirm that this is a list\n",
    "print(type(stateData))\n",
    "\n",
    "#Print out the first entry from the list\n",
    "print(stateData[0])\n",
    "\n",
    "#Confirm that the first entry is a dictionary\n",
    "print(type(stateData[0]))\n",
    "\n",
    "#Look at a value by key\n",
    "print(stateData[0]['date'])\n"
   ]
  },
  {
   "cell_type": "markdown",
   "metadata": {},
   "source": [
    "### Turn the data into a Pandas Data Frame and take a look at the first few entries. "
   ]
  },
  {
   "cell_type": "code",
   "execution_count": 6,
   "metadata": {},
   "outputs": [
    {
     "data": {
      "text/html": [
       "<div>\n",
       "<style scoped>\n",
       "    .dataframe tbody tr th:only-of-type {\n",
       "        vertical-align: middle;\n",
       "    }\n",
       "\n",
       "    .dataframe tbody tr th {\n",
       "        vertical-align: top;\n",
       "    }\n",
       "\n",
       "    .dataframe thead th {\n",
       "        text-align: right;\n",
       "    }\n",
       "</style>\n",
       "<table border=\"1\" class=\"dataframe\">\n",
       "  <thead>\n",
       "    <tr style=\"text-align: right;\">\n",
       "      <th></th>\n",
       "      <th>date</th>\n",
       "      <th>state</th>\n",
       "      <th>positive</th>\n",
       "      <th>negative</th>\n",
       "      <th>pending</th>\n",
       "      <th>hospitalizedCurrently</th>\n",
       "      <th>hospitalizedCumulative</th>\n",
       "      <th>inIcuCurrently</th>\n",
       "      <th>inIcuCumulative</th>\n",
       "      <th>onVentilatorCurrently</th>\n",
       "      <th>...</th>\n",
       "      <th>hospitalized</th>\n",
       "      <th>total</th>\n",
       "      <th>totalTestResults</th>\n",
       "      <th>posNeg</th>\n",
       "      <th>fips</th>\n",
       "      <th>deathIncrease</th>\n",
       "      <th>hospitalizedIncrease</th>\n",
       "      <th>negativeIncrease</th>\n",
       "      <th>positiveIncrease</th>\n",
       "      <th>totalTestResultsIncrease</th>\n",
       "    </tr>\n",
       "  </thead>\n",
       "  <tbody>\n",
       "    <tr>\n",
       "      <th>0</th>\n",
       "      <td>20200423</td>\n",
       "      <td>AK</td>\n",
       "      <td>337.0</td>\n",
       "      <td>11824.0</td>\n",
       "      <td>NaN</td>\n",
       "      <td>42.0</td>\n",
       "      <td>NaN</td>\n",
       "      <td>NaN</td>\n",
       "      <td>NaN</td>\n",
       "      <td>NaN</td>\n",
       "      <td>...</td>\n",
       "      <td>NaN</td>\n",
       "      <td>12161.0</td>\n",
       "      <td>12161.0</td>\n",
       "      <td>12161.0</td>\n",
       "      <td>02</td>\n",
       "      <td>0.0</td>\n",
       "      <td>0.0</td>\n",
       "      <td>0.0</td>\n",
       "      <td>2.0</td>\n",
       "      <td>2.0</td>\n",
       "    </tr>\n",
       "    <tr>\n",
       "      <th>1</th>\n",
       "      <td>20200423</td>\n",
       "      <td>AL</td>\n",
       "      <td>5778.0</td>\n",
       "      <td>46863.0</td>\n",
       "      <td>NaN</td>\n",
       "      <td>NaN</td>\n",
       "      <td>768.0</td>\n",
       "      <td>NaN</td>\n",
       "      <td>288.0</td>\n",
       "      <td>NaN</td>\n",
       "      <td>...</td>\n",
       "      <td>768.0</td>\n",
       "      <td>52641.0</td>\n",
       "      <td>52641.0</td>\n",
       "      <td>52641.0</td>\n",
       "      <td>01</td>\n",
       "      <td>3.0</td>\n",
       "      <td>38.0</td>\n",
       "      <td>3568.0</td>\n",
       "      <td>313.0</td>\n",
       "      <td>3881.0</td>\n",
       "    </tr>\n",
       "    <tr>\n",
       "      <th>2</th>\n",
       "      <td>20200423</td>\n",
       "      <td>AR</td>\n",
       "      <td>2465.0</td>\n",
       "      <td>29125.0</td>\n",
       "      <td>NaN</td>\n",
       "      <td>101.0</td>\n",
       "      <td>291.0</td>\n",
       "      <td>NaN</td>\n",
       "      <td>NaN</td>\n",
       "      <td>24.0</td>\n",
       "      <td>...</td>\n",
       "      <td>291.0</td>\n",
       "      <td>31590.0</td>\n",
       "      <td>31590.0</td>\n",
       "      <td>31590.0</td>\n",
       "      <td>05</td>\n",
       "      <td>3.0</td>\n",
       "      <td>0.0</td>\n",
       "      <td>1688.0</td>\n",
       "      <td>189.0</td>\n",
       "      <td>1877.0</td>\n",
       "    </tr>\n",
       "    <tr>\n",
       "      <th>3</th>\n",
       "      <td>20200423</td>\n",
       "      <td>AS</td>\n",
       "      <td>0.0</td>\n",
       "      <td>3.0</td>\n",
       "      <td>17.0</td>\n",
       "      <td>NaN</td>\n",
       "      <td>NaN</td>\n",
       "      <td>NaN</td>\n",
       "      <td>NaN</td>\n",
       "      <td>NaN</td>\n",
       "      <td>...</td>\n",
       "      <td>NaN</td>\n",
       "      <td>20.0</td>\n",
       "      <td>3.0</td>\n",
       "      <td>3.0</td>\n",
       "      <td>60</td>\n",
       "      <td>0.0</td>\n",
       "      <td>0.0</td>\n",
       "      <td>0.0</td>\n",
       "      <td>0.0</td>\n",
       "      <td>0.0</td>\n",
       "    </tr>\n",
       "    <tr>\n",
       "      <th>4</th>\n",
       "      <td>20200423</td>\n",
       "      <td>AZ</td>\n",
       "      <td>5769.0</td>\n",
       "      <td>52928.0</td>\n",
       "      <td>NaN</td>\n",
       "      <td>699.0</td>\n",
       "      <td>NaN</td>\n",
       "      <td>305.0</td>\n",
       "      <td>NaN</td>\n",
       "      <td>201.0</td>\n",
       "      <td>...</td>\n",
       "      <td>NaN</td>\n",
       "      <td>58697.0</td>\n",
       "      <td>58697.0</td>\n",
       "      <td>58697.0</td>\n",
       "      <td>04</td>\n",
       "      <td>20.0</td>\n",
       "      <td>0.0</td>\n",
       "      <td>1786.0</td>\n",
       "      <td>310.0</td>\n",
       "      <td>2096.0</td>\n",
       "    </tr>\n",
       "  </tbody>\n",
       "</table>\n",
       "<p>5 rows × 25 columns</p>\n",
       "</div>"
      ],
      "text/plain": [
       "       date state  positive  negative  pending  hospitalizedCurrently  \\\n",
       "0  20200423    AK     337.0   11824.0      NaN                   42.0   \n",
       "1  20200423    AL    5778.0   46863.0      NaN                    NaN   \n",
       "2  20200423    AR    2465.0   29125.0      NaN                  101.0   \n",
       "3  20200423    AS       0.0       3.0     17.0                    NaN   \n",
       "4  20200423    AZ    5769.0   52928.0      NaN                  699.0   \n",
       "\n",
       "   hospitalizedCumulative  inIcuCurrently  inIcuCumulative  \\\n",
       "0                     NaN             NaN              NaN   \n",
       "1                   768.0             NaN            288.0   \n",
       "2                   291.0             NaN              NaN   \n",
       "3                     NaN             NaN              NaN   \n",
       "4                     NaN           305.0              NaN   \n",
       "\n",
       "   onVentilatorCurrently  ...  hospitalized    total totalTestResults  \\\n",
       "0                    NaN  ...           NaN  12161.0          12161.0   \n",
       "1                    NaN  ...         768.0  52641.0          52641.0   \n",
       "2                   24.0  ...         291.0  31590.0          31590.0   \n",
       "3                    NaN  ...           NaN     20.0              3.0   \n",
       "4                  201.0  ...           NaN  58697.0          58697.0   \n",
       "\n",
       "    posNeg  fips  deathIncrease  hospitalizedIncrease  negativeIncrease  \\\n",
       "0  12161.0    02            0.0                   0.0               0.0   \n",
       "1  52641.0    01            3.0                  38.0            3568.0   \n",
       "2  31590.0    05            3.0                   0.0            1688.0   \n",
       "3      3.0    60            0.0                   0.0               0.0   \n",
       "4  58697.0    04           20.0                   0.0            1786.0   \n",
       "\n",
       "   positiveIncrease totalTestResultsIncrease  \n",
       "0               2.0                      2.0  \n",
       "1             313.0                   3881.0  \n",
       "2             189.0                   1877.0  \n",
       "3               0.0                      0.0  \n",
       "4             310.0                   2096.0  \n",
       "\n",
       "[5 rows x 25 columns]"
      ]
     },
     "execution_count": 6,
     "metadata": {},
     "output_type": "execute_result"
    }
   ],
   "source": [
    "originalStateDF = pd.DataFrame(stateData)\n",
    "originalStateDF.head()\n"
   ]
  },
  {
   "cell_type": "markdown",
   "metadata": {},
   "source": [
    "## Change dates from strings to datetime"
   ]
  },
  {
   "cell_type": "code",
   "execution_count": 185,
   "metadata": {},
   "outputs": [],
   "source": [
    "# Make a new data frame where we will clean up some of the columns\n",
    "stateDF = pd.DataFrame(stateData)\n",
    "# Convert the date to a datetime\n",
    "stateDF['date'] = pd.to_datetime(stateDF['date'].astype(str))\n"
   ]
  },
  {
   "cell_type": "code",
   "execution_count": 184,
   "metadata": {},
   "outputs": [
    {
     "name": "stdout",
     "output_type": "stream",
     "text": [
      "(2769, 25) 69225 69225\n",
      "row labels:  RangeIndex(start=0, stop=2769, step=1)\n",
      "column labels:  Index(['date', 'state', 'positive', 'negative', 'pending',\n",
      "       'hospitalizedCurrently', 'hospitalizedCumulative', 'inIcuCurrently',\n",
      "       'inIcuCumulative', 'onVentilatorCurrently', 'onVentilatorCumulative',\n",
      "       'recovered', 'hash', 'dateChecked', 'death', 'hospitalized', 'total',\n",
      "       'totalTestResults', 'posNeg', 'fips', 'deathIncrease',\n",
      "       'hospitalizedIncrease', 'negativeIncrease', 'positiveIncrease',\n",
      "       'totalTestResultsIncrease'],\n",
      "      dtype='object')\n",
      "data types:  date                        datetime64[ns]\n",
      "state                               object\n",
      "positive                           float64\n",
      "negative                           float64\n",
      "pending                            float64\n",
      "hospitalizedCurrently              float64\n",
      "hospitalizedCumulative             float64\n",
      "inIcuCurrently                     float64\n",
      "inIcuCumulative                    float64\n",
      "onVentilatorCurrently              float64\n",
      "onVentilatorCumulative             float64\n",
      "recovered                          float64\n",
      "hash                                object\n",
      "dateChecked                         object\n",
      "death                              float64\n",
      "hospitalized                       float64\n",
      "total                              float64\n",
      "totalTestResults                   float64\n",
      "posNeg                             float64\n",
      "fips                                object\n",
      "deathIncrease                      float64\n",
      "hospitalizedIncrease               float64\n",
      "negativeIncrease                   float64\n",
      "positiveIncrease                   float64\n",
      "totalTestResultsIncrease           float64\n",
      "dtype: object\n"
     ]
    }
   ],
   "source": [
    "# size is total number of entries\n",
    "size = stateDF.size\n",
    "# shape is (number of rows, number of columns)\n",
    "shape = stateDF.shape\n",
    "compSize = shape[0] * shape[1]\n",
    "print(shape, size, compSize)\n",
    "# row labels\n",
    "print(\"row labels: \", stateDF.index)\n",
    "print(\"column labels: \", stateDF.columns)\n",
    "print(\"data types: \", stateDF.dtypes)\n"
   ]
  },
  {
   "cell_type": "markdown",
   "metadata": {},
   "source": [
    "## Exploratory data analysis"
   ]
  },
  {
   "cell_type": "code",
   "execution_count": null,
   "metadata": {},
   "outputs": [],
   "source": [
    "# make a new data frame for just values in new mexico\n",
    "nmdf = stateDF.loc[stateDF['state'] == \"NM\"]\n"
   ]
  },
  {
   "cell_type": "code",
   "execution_count": null,
   "metadata": {},
   "outputs": [],
   "source": [
    "plt.figure(figsize=(8,4))\n",
    "sns.heatmap(stateDF.corr(), cmap='Greens', annot = False)"
   ]
  },
  {
   "cell_type": "code",
   "execution_count": null,
   "metadata": {},
   "outputs": [],
   "source": [
    "nmdf.plot(kind = 'scatter', x='date', y='positive', title='date verses cases')\n",
    "stateDF.plot(kind = 'scatter', x='date', y='positive')"
   ]
  },
  {
   "cell_type": "code",
   "execution_count": null,
   "metadata": {},
   "outputs": [],
   "source": [
    "stateDF.info()\n"
   ]
  },
  {
   "cell_type": "markdown",
   "metadata": {},
   "source": [
    "## Compare testing and death rates"
   ]
  },
  {
   "cell_type": "markdown",
   "metadata": {},
   "source": [
    "I want to explore differences between testing rates and death rates. Some states have the similar numbers of positive tests, but very different numbers of deaths.  \n",
    "I want to know if the states that have a higher death to positive test ratio are doing fewer tests.  \n",
    "\n",
    "I want to look at the ration of positive tests to total tests and the ratio of total tests to population.  \n",
    "\n",
    "Let's see what we find..."
   ]
  },
  {
   "cell_type": "code",
   "execution_count": null,
   "metadata": {},
   "outputs": [],
   "source": [
    "stateDF.loc[stateDF['positive' == 10]]\n"
   ]
  },
  {
   "cell_type": "code",
   "execution_count": null,
   "metadata": {},
   "outputs": [],
   "source": [
    "print(today())\n",
    "#yesterday = stateDF[statdeDF[date] = ]"
   ]
  },
  {
   "cell_type": "code",
   "execution_count": null,
   "metadata": {},
   "outputs": [],
   "source": [
    "datestring= \"March 26\"\n",
    "print(pd.to_datetime(datestring))\n",
    "#format('%B/%d/')"
   ]
  }
 ],
 "metadata": {
  "kernelspec": {
   "display_name": "Python 3",
   "language": "python",
   "name": "python3"
  },
  "language_info": {
   "codemirror_mode": {
    "name": "ipython",
    "version": 3
   },
   "file_extension": ".py",
   "mimetype": "text/x-python",
   "name": "python",
   "nbconvert_exporter": "python",
   "pygments_lexer": "ipython3",
   "version": "3.7.5"
  }
 },
 "nbformat": 4,
 "nbformat_minor": 4
}
