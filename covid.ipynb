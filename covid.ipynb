{
 "cells": [
  {
   "cell_type": "code",
   "execution_count": 43,
   "metadata": {},
   "outputs": [],
   "source": [
    "import requests\n",
    "import pandas as pd\n",
    "import matplotlib.pyplot as plt\n",
    "import seaborn as sns\n",
    "sns.set()"
   ]
  },
  {
   "cell_type": "markdown",
   "metadata": {},
   "source": [
    "## Import data into Data Frame"
   ]
  },
  {
   "cell_type": "markdown",
   "metadata": {},
   "source": [
    "We're using covidtracking.com for the data.  \n",
    "Make a get request and convert the json response to a list."
   ]
  },
  {
   "cell_type": "code",
   "execution_count": 31,
   "metadata": {},
   "outputs": [
    {
     "name": "stdout",
     "output_type": "stream",
     "text": [
      "<Response [200]>\n"
     ]
    }
   ],
   "source": [
    "stateData = requests.get('https://covidtracking.com/api/states/daily').json()\n",
    "print(r)"
   ]
  },
  {
   "cell_type": "markdown",
   "metadata": {},
   "source": [
    "Take a look at the data we are getting.  \n",
    "stateData is a list of dictionaries containing daily information about state covid cases. "
   ]
  },
  {
   "cell_type": "code",
   "execution_count": 32,
   "metadata": {},
   "outputs": [
    {
     "name": "stdout",
     "output_type": "stream",
     "text": [
      "<class 'list'>\n",
      "{'date': 20200411, 'state': 'AK', 'positive': 257, 'negative': 7475, 'pending': None, 'hospitalizedCurrently': None, 'hospitalizedCumulative': 31, 'inIcuCurrently': None, 'inIcuCumulative': None, 'onVentilatorCurrently': None, 'onVentilatorCumulative': None, 'recovered': 63, 'hash': 'a8d36e9ce19edaeaac989881abf96fc74196efba', 'dateChecked': '2020-04-11T20:00:00Z', 'death': 8, 'hospitalized': 31, 'total': 7732, 'totalTestResults': 7732, 'posNeg': 7732, 'fips': '02', 'deathIncrease': 1, 'hospitalizedIncrease': 3, 'negativeIncrease': 289, 'positiveIncrease': 11, 'totalTestResultsIncrease': 300}\n",
      "<class 'dict'>\n",
      "20200411\n"
     ]
    }
   ],
   "source": [
    "#Confirm that this is a list\n",
    "print(type(stateData))\n",
    "\n",
    "#Print out the first entry from the list\n",
    "print(stateData[0])\n",
    "\n",
    "#Confirm that the first entry is a dictionary\n",
    "print(type(stateData[0]))\n",
    "\n",
    "#Look at a value by key\n",
    "print(stateData[0]['date'])\n"
   ]
  },
  {
   "cell_type": "markdown",
   "metadata": {},
   "source": [
    "Turn the data into a Pandas Data Frame and take a look at the first few entries. "
   ]
  },
  {
   "cell_type": "code",
   "execution_count": 51,
   "metadata": {},
   "outputs": [
    {
     "data": {
      "text/html": [
       "<div>\n",
       "<style scoped>\n",
       "    .dataframe tbody tr th:only-of-type {\n",
       "        vertical-align: middle;\n",
       "    }\n",
       "\n",
       "    .dataframe tbody tr th {\n",
       "        vertical-align: top;\n",
       "    }\n",
       "\n",
       "    .dataframe thead th {\n",
       "        text-align: right;\n",
       "    }\n",
       "</style>\n",
       "<table border=\"1\" class=\"dataframe\">\n",
       "  <thead>\n",
       "    <tr style=\"text-align: right;\">\n",
       "      <th></th>\n",
       "      <th>date</th>\n",
       "      <th>state</th>\n",
       "      <th>positive</th>\n",
       "      <th>negative</th>\n",
       "      <th>pending</th>\n",
       "      <th>hospitalizedCurrently</th>\n",
       "      <th>hospitalizedCumulative</th>\n",
       "      <th>inIcuCurrently</th>\n",
       "      <th>inIcuCumulative</th>\n",
       "      <th>onVentilatorCurrently</th>\n",
       "      <th>...</th>\n",
       "      <th>hospitalized</th>\n",
       "      <th>total</th>\n",
       "      <th>totalTestResults</th>\n",
       "      <th>posNeg</th>\n",
       "      <th>fips</th>\n",
       "      <th>deathIncrease</th>\n",
       "      <th>hospitalizedIncrease</th>\n",
       "      <th>negativeIncrease</th>\n",
       "      <th>positiveIncrease</th>\n",
       "      <th>totalTestResultsIncrease</th>\n",
       "    </tr>\n",
       "  </thead>\n",
       "  <tbody>\n",
       "    <tr>\n",
       "      <th>0</th>\n",
       "      <td>20200411</td>\n",
       "      <td>AK</td>\n",
       "      <td>257.0</td>\n",
       "      <td>7475.0</td>\n",
       "      <td>NaN</td>\n",
       "      <td>NaN</td>\n",
       "      <td>31.0</td>\n",
       "      <td>NaN</td>\n",
       "      <td>NaN</td>\n",
       "      <td>NaN</td>\n",
       "      <td>...</td>\n",
       "      <td>31.0</td>\n",
       "      <td>7732</td>\n",
       "      <td>7732</td>\n",
       "      <td>7732</td>\n",
       "      <td>02</td>\n",
       "      <td>1.0</td>\n",
       "      <td>3.0</td>\n",
       "      <td>289.0</td>\n",
       "      <td>11.0</td>\n",
       "      <td>300.0</td>\n",
       "    </tr>\n",
       "    <tr>\n",
       "      <th>1</th>\n",
       "      <td>20200411</td>\n",
       "      <td>AL</td>\n",
       "      <td>3191.0</td>\n",
       "      <td>18058.0</td>\n",
       "      <td>NaN</td>\n",
       "      <td>NaN</td>\n",
       "      <td>402.0</td>\n",
       "      <td>NaN</td>\n",
       "      <td>NaN</td>\n",
       "      <td>NaN</td>\n",
       "      <td>...</td>\n",
       "      <td>402.0</td>\n",
       "      <td>21249</td>\n",
       "      <td>21249</td>\n",
       "      <td>21249</td>\n",
       "      <td>01</td>\n",
       "      <td>11.0</td>\n",
       "      <td>34.0</td>\n",
       "      <td>0.0</td>\n",
       "      <td>223.0</td>\n",
       "      <td>223.0</td>\n",
       "    </tr>\n",
       "    <tr>\n",
       "      <th>2</th>\n",
       "      <td>20200411</td>\n",
       "      <td>AR</td>\n",
       "      <td>1226.0</td>\n",
       "      <td>17352.0</td>\n",
       "      <td>NaN</td>\n",
       "      <td>86.0</td>\n",
       "      <td>130.0</td>\n",
       "      <td>NaN</td>\n",
       "      <td>43.0</td>\n",
       "      <td>33.0</td>\n",
       "      <td>...</td>\n",
       "      <td>130.0</td>\n",
       "      <td>18578</td>\n",
       "      <td>18578</td>\n",
       "      <td>18578</td>\n",
       "      <td>05</td>\n",
       "      <td>1.0</td>\n",
       "      <td>0.0</td>\n",
       "      <td>1403.0</td>\n",
       "      <td>55.0</td>\n",
       "      <td>1458.0</td>\n",
       "    </tr>\n",
       "    <tr>\n",
       "      <th>3</th>\n",
       "      <td>20200411</td>\n",
       "      <td>AS</td>\n",
       "      <td>0.0</td>\n",
       "      <td>3.0</td>\n",
       "      <td>2.0</td>\n",
       "      <td>NaN</td>\n",
       "      <td>NaN</td>\n",
       "      <td>NaN</td>\n",
       "      <td>NaN</td>\n",
       "      <td>NaN</td>\n",
       "      <td>...</td>\n",
       "      <td>NaN</td>\n",
       "      <td>5</td>\n",
       "      <td>3</td>\n",
       "      <td>3</td>\n",
       "      <td>60</td>\n",
       "      <td>0.0</td>\n",
       "      <td>0.0</td>\n",
       "      <td>-17.0</td>\n",
       "      <td>0.0</td>\n",
       "      <td>-17.0</td>\n",
       "    </tr>\n",
       "    <tr>\n",
       "      <th>4</th>\n",
       "      <td>20200411</td>\n",
       "      <td>AZ</td>\n",
       "      <td>3393.0</td>\n",
       "      <td>37137.0</td>\n",
       "      <td>NaN</td>\n",
       "      <td>NaN</td>\n",
       "      <td>NaN</td>\n",
       "      <td>NaN</td>\n",
       "      <td>NaN</td>\n",
       "      <td>NaN</td>\n",
       "      <td>...</td>\n",
       "      <td>NaN</td>\n",
       "      <td>40530</td>\n",
       "      <td>40530</td>\n",
       "      <td>40530</td>\n",
       "      <td>04</td>\n",
       "      <td>11.0</td>\n",
       "      <td>0.0</td>\n",
       "      <td>2515.0</td>\n",
       "      <td>281.0</td>\n",
       "      <td>2796.0</td>\n",
       "    </tr>\n",
       "  </tbody>\n",
       "</table>\n",
       "<p>5 rows × 25 columns</p>\n",
       "</div>"
      ],
      "text/plain": [
       "       date state  positive  negative  pending  hospitalizedCurrently  \\\n",
       "0  20200411    AK     257.0    7475.0      NaN                    NaN   \n",
       "1  20200411    AL    3191.0   18058.0      NaN                    NaN   \n",
       "2  20200411    AR    1226.0   17352.0      NaN                   86.0   \n",
       "3  20200411    AS       0.0       3.0      2.0                    NaN   \n",
       "4  20200411    AZ    3393.0   37137.0      NaN                    NaN   \n",
       "\n",
       "   hospitalizedCumulative  inIcuCurrently  inIcuCumulative  \\\n",
       "0                    31.0             NaN              NaN   \n",
       "1                   402.0             NaN              NaN   \n",
       "2                   130.0             NaN             43.0   \n",
       "3                     NaN             NaN              NaN   \n",
       "4                     NaN             NaN              NaN   \n",
       "\n",
       "   onVentilatorCurrently  ...  hospitalized  total totalTestResults posNeg  \\\n",
       "0                    NaN  ...          31.0   7732             7732   7732   \n",
       "1                    NaN  ...         402.0  21249            21249  21249   \n",
       "2                   33.0  ...         130.0  18578            18578  18578   \n",
       "3                    NaN  ...           NaN      5                3      3   \n",
       "4                    NaN  ...           NaN  40530            40530  40530   \n",
       "\n",
       "   fips  deathIncrease  hospitalizedIncrease  negativeIncrease  \\\n",
       "0    02            1.0                   3.0             289.0   \n",
       "1    01           11.0                  34.0               0.0   \n",
       "2    05            1.0                   0.0            1403.0   \n",
       "3    60            0.0                   0.0             -17.0   \n",
       "4    04           11.0                   0.0            2515.0   \n",
       "\n",
       "   positiveIncrease totalTestResultsIncrease  \n",
       "0              11.0                    300.0  \n",
       "1             223.0                    223.0  \n",
       "2              55.0                   1458.0  \n",
       "3               0.0                    -17.0  \n",
       "4             281.0                   2796.0  \n",
       "\n",
       "[5 rows x 25 columns]"
      ]
     },
     "execution_count": 51,
     "metadata": {},
     "output_type": "execute_result"
    }
   ],
   "source": [
    "originalStateDF = pd.DataFrame(stateData)\n",
    "originalStateDF.head()\n"
   ]
  },
  {
   "cell_type": "code",
   "execution_count": 73,
   "metadata": {},
   "outputs": [
    {
     "data": {
      "text/html": [
       "<div>\n",
       "<style scoped>\n",
       "    .dataframe tbody tr th:only-of-type {\n",
       "        vertical-align: middle;\n",
       "    }\n",
       "\n",
       "    .dataframe tbody tr th {\n",
       "        vertical-align: top;\n",
       "    }\n",
       "\n",
       "    .dataframe thead th {\n",
       "        text-align: right;\n",
       "    }\n",
       "</style>\n",
       "<table border=\"1\" class=\"dataframe\">\n",
       "  <thead>\n",
       "    <tr style=\"text-align: right;\">\n",
       "      <th></th>\n",
       "      <th>date</th>\n",
       "      <th>state</th>\n",
       "      <th>positive</th>\n",
       "      <th>negative</th>\n",
       "      <th>pending</th>\n",
       "      <th>hospitalizedCurrently</th>\n",
       "      <th>hospitalizedCumulative</th>\n",
       "      <th>inIcuCurrently</th>\n",
       "      <th>inIcuCumulative</th>\n",
       "      <th>onVentilatorCurrently</th>\n",
       "      <th>...</th>\n",
       "      <th>hospitalized</th>\n",
       "      <th>total</th>\n",
       "      <th>totalTestResults</th>\n",
       "      <th>posNeg</th>\n",
       "      <th>fips</th>\n",
       "      <th>deathIncrease</th>\n",
       "      <th>hospitalizedIncrease</th>\n",
       "      <th>negativeIncrease</th>\n",
       "      <th>positiveIncrease</th>\n",
       "      <th>totalTestResultsIncrease</th>\n",
       "    </tr>\n",
       "  </thead>\n",
       "  <tbody>\n",
       "    <tr>\n",
       "      <th>0</th>\n",
       "      <td>2020-04-11</td>\n",
       "      <td>AK</td>\n",
       "      <td>257.0</td>\n",
       "      <td>7475.0</td>\n",
       "      <td>NaN</td>\n",
       "      <td>NaN</td>\n",
       "      <td>31.0</td>\n",
       "      <td>NaN</td>\n",
       "      <td>NaN</td>\n",
       "      <td>NaN</td>\n",
       "      <td>...</td>\n",
       "      <td>31.0</td>\n",
       "      <td>7732</td>\n",
       "      <td>7732</td>\n",
       "      <td>7732</td>\n",
       "      <td>02</td>\n",
       "      <td>1.0</td>\n",
       "      <td>3.0</td>\n",
       "      <td>289.0</td>\n",
       "      <td>11.0</td>\n",
       "      <td>300.0</td>\n",
       "    </tr>\n",
       "    <tr>\n",
       "      <th>1</th>\n",
       "      <td>2020-04-11</td>\n",
       "      <td>AL</td>\n",
       "      <td>3191.0</td>\n",
       "      <td>18058.0</td>\n",
       "      <td>NaN</td>\n",
       "      <td>NaN</td>\n",
       "      <td>402.0</td>\n",
       "      <td>NaN</td>\n",
       "      <td>NaN</td>\n",
       "      <td>NaN</td>\n",
       "      <td>...</td>\n",
       "      <td>402.0</td>\n",
       "      <td>21249</td>\n",
       "      <td>21249</td>\n",
       "      <td>21249</td>\n",
       "      <td>01</td>\n",
       "      <td>11.0</td>\n",
       "      <td>34.0</td>\n",
       "      <td>0.0</td>\n",
       "      <td>223.0</td>\n",
       "      <td>223.0</td>\n",
       "    </tr>\n",
       "    <tr>\n",
       "      <th>2</th>\n",
       "      <td>2020-04-11</td>\n",
       "      <td>AR</td>\n",
       "      <td>1226.0</td>\n",
       "      <td>17352.0</td>\n",
       "      <td>NaN</td>\n",
       "      <td>86.0</td>\n",
       "      <td>130.0</td>\n",
       "      <td>NaN</td>\n",
       "      <td>43.0</td>\n",
       "      <td>33.0</td>\n",
       "      <td>...</td>\n",
       "      <td>130.0</td>\n",
       "      <td>18578</td>\n",
       "      <td>18578</td>\n",
       "      <td>18578</td>\n",
       "      <td>05</td>\n",
       "      <td>1.0</td>\n",
       "      <td>0.0</td>\n",
       "      <td>1403.0</td>\n",
       "      <td>55.0</td>\n",
       "      <td>1458.0</td>\n",
       "    </tr>\n",
       "    <tr>\n",
       "      <th>3</th>\n",
       "      <td>2020-04-11</td>\n",
       "      <td>AS</td>\n",
       "      <td>0.0</td>\n",
       "      <td>3.0</td>\n",
       "      <td>2.0</td>\n",
       "      <td>NaN</td>\n",
       "      <td>NaN</td>\n",
       "      <td>NaN</td>\n",
       "      <td>NaN</td>\n",
       "      <td>NaN</td>\n",
       "      <td>...</td>\n",
       "      <td>NaN</td>\n",
       "      <td>5</td>\n",
       "      <td>3</td>\n",
       "      <td>3</td>\n",
       "      <td>60</td>\n",
       "      <td>0.0</td>\n",
       "      <td>0.0</td>\n",
       "      <td>-17.0</td>\n",
       "      <td>0.0</td>\n",
       "      <td>-17.0</td>\n",
       "    </tr>\n",
       "    <tr>\n",
       "      <th>4</th>\n",
       "      <td>2020-04-11</td>\n",
       "      <td>AZ</td>\n",
       "      <td>3393.0</td>\n",
       "      <td>37137.0</td>\n",
       "      <td>NaN</td>\n",
       "      <td>NaN</td>\n",
       "      <td>NaN</td>\n",
       "      <td>NaN</td>\n",
       "      <td>NaN</td>\n",
       "      <td>NaN</td>\n",
       "      <td>...</td>\n",
       "      <td>NaN</td>\n",
       "      <td>40530</td>\n",
       "      <td>40530</td>\n",
       "      <td>40530</td>\n",
       "      <td>04</td>\n",
       "      <td>11.0</td>\n",
       "      <td>0.0</td>\n",
       "      <td>2515.0</td>\n",
       "      <td>281.0</td>\n",
       "      <td>2796.0</td>\n",
       "    </tr>\n",
       "  </tbody>\n",
       "</table>\n",
       "<p>5 rows × 25 columns</p>\n",
       "</div>"
      ],
      "text/plain": [
       "        date state  positive  negative  pending  hospitalizedCurrently  \\\n",
       "0 2020-04-11    AK     257.0    7475.0      NaN                    NaN   \n",
       "1 2020-04-11    AL    3191.0   18058.0      NaN                    NaN   \n",
       "2 2020-04-11    AR    1226.0   17352.0      NaN                   86.0   \n",
       "3 2020-04-11    AS       0.0       3.0      2.0                    NaN   \n",
       "4 2020-04-11    AZ    3393.0   37137.0      NaN                    NaN   \n",
       "\n",
       "   hospitalizedCumulative  inIcuCurrently  inIcuCumulative  \\\n",
       "0                    31.0             NaN              NaN   \n",
       "1                   402.0             NaN              NaN   \n",
       "2                   130.0             NaN             43.0   \n",
       "3                     NaN             NaN              NaN   \n",
       "4                     NaN             NaN              NaN   \n",
       "\n",
       "   onVentilatorCurrently  ...  hospitalized  total totalTestResults posNeg  \\\n",
       "0                    NaN  ...          31.0   7732             7732   7732   \n",
       "1                    NaN  ...         402.0  21249            21249  21249   \n",
       "2                   33.0  ...         130.0  18578            18578  18578   \n",
       "3                    NaN  ...           NaN      5                3      3   \n",
       "4                    NaN  ...           NaN  40530            40530  40530   \n",
       "\n",
       "   fips  deathIncrease  hospitalizedIncrease  negativeIncrease  \\\n",
       "0    02            1.0                   3.0             289.0   \n",
       "1    01           11.0                  34.0               0.0   \n",
       "2    05            1.0                   0.0            1403.0   \n",
       "3    60            0.0                   0.0             -17.0   \n",
       "4    04           11.0                   0.0            2515.0   \n",
       "\n",
       "   positiveIncrease totalTestResultsIncrease  \n",
       "0              11.0                    300.0  \n",
       "1             223.0                    223.0  \n",
       "2              55.0                   1458.0  \n",
       "3               0.0                    -17.0  \n",
       "4             281.0                   2796.0  \n",
       "\n",
       "[5 rows x 25 columns]"
      ]
     },
     "execution_count": 73,
     "metadata": {},
     "output_type": "execute_result"
    }
   ],
   "source": [
    "# Make a new data frame where we will clean up some of the columns\n",
    "stateDF = pd.DataFrame(stateData)\n",
    "# Convert the date to a datetime\n",
    "stateDF['date'] = pd.to_datetime(stateDF['date'].astype(str))\n",
    "stateDF.head()\n"
   ]
  },
  {
   "cell_type": "markdown",
   "metadata": {},
   "source": [
    "## Exploratory data analysis"
   ]
  },
  {
   "cell_type": "code",
   "execution_count": 75,
   "metadata": {},
   "outputs": [],
   "source": [
    "# make a new data frame for just values in new mexico\n",
    "nmdf = stateDF.loc[stateDF['state'] == \"NM\"]\n"
   ]
  },
  {
   "cell_type": "code",
   "execution_count": 76,
   "metadata": {},
   "outputs": [
    {
     "data": {
      "text/plain": [
       "<matplotlib.axes._subplots.AxesSubplot at 0x7f0722aeb850>"
      ]
     },
     "execution_count": 76,
     "metadata": {},
     "output_type": "execute_result"
    },
    {
     "data": {
      "image/png": "[encoded data removed]",
      "text/plain": [
       "<Figure size 576x288 with 2 Axes>"
      ]
     },
     "metadata": {},
     "output_type": "display_data"
    }
   ],
   "source": [
    "plt.figure(figsize=(8,4))\n",
    "sns.heatmap(stateDF.corr(), cmap='Greens', annot = False)"
   ]
  },
  {
   "cell_type": "code",
   "execution_count": 78,
   "metadata": {},
   "outputs": [
    {
     "name": "stderr",
     "output_type": "stream",
     "text": [
      "'c' argument looks like a single numeric RGB or RGBA sequence, which should be avoided as value-mapping will have precedence in case its length matches with 'x' & 'y'.  Please use a 2-D array with a single row if you really want to specify the same RGB or RGBA value for all points.\n",
      "'c' argument looks like a single numeric RGB or RGBA sequence, which should be avoided as value-mapping will have precedence in case its length matches with 'x' & 'y'.  Please use a 2-D array with a single row if you really want to specify the same RGB or RGBA value for all points.\n"
     ]
    },
    {
     "data": {
      "text/plain": [
       "<matplotlib.axes._subplots.AxesSubplot at 0x7f0721d37b50>"
      ]
     },
     "execution_count": 78,
     "metadata": {},
     "output_type": "execute_result"
    },
    {
     "data": {
      "image/png": "[encoded data removed]",
      "text/plain": [
       "<Figure size 432x288 with 1 Axes>"
      ]
     },
     "metadata": {},
     "output_type": "display_data"
    },
    {
     "data": {
      "image/png": "[encoded data removed]",
      "text/plain": [
       "<Figure size 432x288 with 1 Axes>"
      ]
     },
     "metadata": {},
     "output_type": "display_data"
    }
   ],
   "source": [
    "nmdf.plot(kind = 'scatter', x='date', y='positive', title='date verses cases')\n",
    "stateDF.plot(kind = 'scatter', x='date', y='positive')"
   ]
  },
  {
   "cell_type": "code",
   "execution_count": 46,
   "metadata": {},
   "outputs": [
    {
     "name": "stdout",
     "output_type": "stream",
     "text": [
      "<class 'pandas.core.frame.DataFrame'>\n",
      "RangeIndex: 2056 entries, 0 to 2055\n",
      "Data columns (total 25 columns):\n",
      " #   Column                    Non-Null Count  Dtype  \n",
      "---  ------                    --------------  -----  \n",
      " 0   date                      2056 non-null   int64  \n",
      " 1   state                     2056 non-null   object \n",
      " 2   positive                  2048 non-null   float64\n",
      " 3   negative                  1904 non-null   float64\n",
      " 4   pending                   506 non-null    float64\n",
      " 5   hospitalizedCurrently     333 non-null    float64\n",
      " 6   hospitalizedCumulative    562 non-null    float64\n",
      " 7   inIcuCurrently            127 non-null    float64\n",
      " 8   inIcuCumulative           79 non-null     float64\n",
      " 9   onVentilatorCurrently     115 non-null    float64\n",
      " 10  onVentilatorCumulative    22 non-null     float64\n",
      " 11  recovered                 320 non-null    float64\n",
      " 12  hash                      2056 non-null   object \n",
      " 13  dateChecked               2056 non-null   object \n",
      " 14  death                     1352 non-null   float64\n",
      " 15  hospitalized              562 non-null    float64\n",
      " 16  total                     2056 non-null   int64  \n",
      " 17  totalTestResults          2056 non-null   int64  \n",
      " 18  posNeg                    2056 non-null   int64  \n",
      " 19  fips                      2056 non-null   object \n",
      " 20  deathIncrease             2000 non-null   float64\n",
      " 21  hospitalizedIncrease      2000 non-null   float64\n",
      " 22  negativeIncrease          2000 non-null   float64\n",
      " 23  positiveIncrease          2000 non-null   float64\n",
      " 24  totalTestResultsIncrease  2000 non-null   float64\n",
      "dtypes: float64(17), int64(4), object(4)\n",
      "memory usage: 401.7+ KB\n"
     ]
    }
   ],
   "source": [
    "stateDF.info()\n"
   ]
  },
  {
   "cell_type": "markdown",
   "metadata": {},
   "source": [
    "## Compare testing and death rates"
   ]
  },
  {
   "cell_type": "markdown",
   "metadata": {},
   "source": [
    "I want to explore differences between testing rates and death rates. Some states have the similar numbers of positive tests, but very different numbers of deaths.  \n",
    "I want to know if the states that have a higher death to positive test ratio are doing fewer tests.  \n",
    "\n",
    "I want to look at the ration of positive tests to total tests and the ratio of total tests to population.  \n",
    "\n",
    "Let's see what we find..."
   ]
  },
  {
   "cell_type": "code",
   "execution_count": null,
   "metadata": {},
   "outputs": [],
   "source": []
  }
 ],
 "metadata": {
  "kernelspec": {
   "display_name": "Python 3",
   "language": "python",
   "name": "python3"
  },
  "language_info": {
   "codemirror_mode": {
    "name": "ipython",
    "version": 3
   },
   "file_extension": ".py",
   "mimetype": "text/x-python",
   "name": "python",
   "nbconvert_exporter": "python",
   "pygments_lexer": "ipython3",
   "version": "3.7.5"
  }
 },
 "nbformat": 4,
 "nbformat_minor": 4
}
